{
 "cells": [
  {
   "cell_type": "markdown",
   "id": "c5801509-2bd3-40c3-849c-f18e00d6eeaa",
   "metadata": {},
   "source": [
    "# **Project Name** - Phishing Classifier\n",
    "\n",
    "<h4>\n",
    "\n",
    "\n",
    "<b> Project Type </b> - Classification\n",
    "    \n",
    "</h4>\n"
   ]
  },
  {
   "cell_type": "markdown",
   "id": "dd5cc020-b23e-4b52-bb21-46c3a3fed3cc",
   "metadata": {},
   "source": [
    "# **Project Summary -**\n",
    "\n",
    "<h5> \n",
    "\n",
    "</b> Project Description</b>\n",
    "\n",
    "</h5>"
   ]
  },
  {
   "cell_type": "code",
   "execution_count": null,
   "id": "55e74f76-80f6-44fb-b0ab-edc5e2e1ce4d",
   "metadata": {},
   "outputs": [],
   "source": []
  }
 ],
 "metadata": {
  "kernelspec": {
   "display_name": "Python 3 (ipykernel)",
   "language": "python",
   "name": "python3"
  },
  "language_info": {
   "codemirror_mode": {
    "name": "ipython",
    "version": 3
   },
   "file_extension": ".py",
   "mimetype": "text/x-python",
   "name": "python",
   "nbconvert_exporter": "python",
   "pygments_lexer": "ipython3",
   "version": "3.12.0"
  }
 },
 "nbformat": 4,
 "nbformat_minor": 5
}
