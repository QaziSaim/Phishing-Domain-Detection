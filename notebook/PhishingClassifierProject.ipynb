{
 "cells": [
  {
   "cell_type": "markdown",
   "id": "dd5cc020-b23e-4b52-bb21-46c3a3fed3cc",
   "metadata": {},
   "source": [
    "# **Project Name** - Phishing Classifier\n",
    "\n",
    "#### **Project Type**  - Classification\n",
    "\n",
    "# **Project Summary -**\n",
    "\n",
    "#### **Project Description:**\n",
    "\n",
    "#### The Phishing Attack Detection project is based on classification focus on developing machine learning model to detect wheter the phising(Attact) are done or not based details given or entered by the user.\n",
    "\n",
    "#### **Objective:**\n",
    "\n",
    "#### The primary goal of this project is develope a anit-phising model to efforts to block the phishing attack.\n",
    "\n",
    "#### **Key Project Details:**\n",
    "\n",
    "1. **URL Structure Analysis:**  \n",
    "   Phishing URLs often contain abnormal patterns such as excessive use of special characters (e.g., ‘@’, ‘//’, or ‘-’), suspicious domain names, or long and complex URLs. These features can help in identifying malicious websites.\n",
    "\n",
    "2. **Domain Features:**  \n",
    "   Phishing domains often have a short lifespan, and many lack proper registration details (WHOIS data). Analyzing domain age and registrar information can be key indicators in phishing detection.\n",
    "\n",
    "3. **Use of IP Addresses in URLs:**  \n",
    "   Legitimate websites rarely use raw IP addresses in URLs, while phishing websites often do. Identifying this feature can improve detection accuracy.\n",
    "\n",
    "4. **SSL Certificate Validity:**  \n",
    "   Phishing sites either lack an SSL certificate or use a free or short-term certificate. Checking SSL certificate details can help differentiate between legitimate and phishing websites.\n",
    "\n",
    "5. **Suspicious Keyword Detection:**  \n",
    "   Phishing URLs frequently contain keywords like \"login\", \"verify\", \"secure\", or brand names (e.g., \"paypal\", \"bank\") to mislead users. Extracting and analyzing such keywords can be a strong phishing indicator.\n",
    "\n",
    "6. **Redirection and Shortened URLs:**  \n",
    "   Phishing websites often use multiple redirections or URL shorteners to disguise malicious links. Detecting excessive redirection can help flag potential phishing attempts.\n",
    "\n",
    "# Problem Statement\n",
    "\n",
    "#### Phishing is a type of fraud in which an attacker impersonates a reputable company or person in order to get sensitive information such as login credentials or account information via email or other communication channels. Phishing is popular among attackers because it is easier to persuade someone to click a malicious link that appears to be authentic than it is to break through a computer's protection measures.\n",
    "#### The mail goal is to predict whether the domains are real or malicious.\n",
    "\n"
   ]
  },
  {
   "cell_type": "code",
   "execution_count": 1,
   "id": "55e74f76-80f6-44fb-b0ab-edc5e2e1ce4d",
   "metadata": {},
   "outputs": [],
   "source": [
    "import pandas as pd\n",
    "data=pd.read_csv('data/Phishing_Legitimate_full.csv')"
   ]
  },
  {
   "cell_type": "code",
   "execution_count": 3,
   "id": "fa59618d-99f0-4d25-a6ae-ad6f9a4f1083",
   "metadata": {},
   "outputs": [
    {
     "data": {
      "text/plain": [
       "Index(['id', 'NumDots', 'SubdomainLevel', 'PathLevel', 'UrlLength', 'NumDash',\n",
       "       'NumDashInHostname', 'AtSymbol', 'TildeSymbol', 'NumUnderscore',\n",
       "       'NumPercent', 'NumQueryComponents', 'NumAmpersand', 'NumHash',\n",
       "       'NumNumericChars', 'NoHttps', 'RandomString', 'IpAddress',\n",
       "       'DomainInSubdomains', 'DomainInPaths', 'HttpsInHostname',\n",
       "       'HostnameLength', 'PathLength', 'QueryLength', 'DoubleSlashInPath',\n",
       "       'NumSensitiveWords', 'EmbeddedBrandName', 'PctExtHyperlinks',\n",
       "       'PctExtResourceUrls', 'ExtFavicon', 'InsecureForms',\n",
       "       'RelativeFormAction', 'ExtFormAction', 'AbnormalFormAction',\n",
       "       'PctNullSelfRedirectHyperlinks', 'FrequentDomainNameMismatch',\n",
       "       'FakeLinkInStatusBar', 'RightClickDisabled', 'PopUpWindow',\n",
       "       'SubmitInfoToEmail', 'IframeOrFrame', 'MissingTitle',\n",
       "       'ImagesOnlyInForm', 'SubdomainLevelRT', 'UrlLengthRT',\n",
       "       'PctExtResourceUrlsRT', 'AbnormalExtFormActionR', 'ExtMetaScriptLinkRT',\n",
       "       'PctExtNullSelfRedirectHyperlinksRT', 'CLASS_LABEL'],\n",
       "      dtype='object')"
      ]
     },
     "execution_count": 3,
     "metadata": {},
     "output_type": "execute_result"
    }
   ],
   "source": [
    "data.columns"
   ]
  },
  {
   "cell_type": "code",
   "execution_count": null,
   "id": "a4293bb4-1758-43eb-aab6-4fc8a026ee30",
   "metadata": {},
   "outputs": [],
   "source": []
  }
 ],
 "metadata": {
  "kernelspec": {
   "display_name": "Python 3 (ipykernel)",
   "language": "python",
   "name": "python3"
  },
  "language_info": {
   "codemirror_mode": {
    "name": "ipython",
    "version": 3
   },
   "file_extension": ".py",
   "mimetype": "text/x-python",
   "name": "python",
   "nbconvert_exporter": "python",
   "pygments_lexer": "ipython3",
   "version": "3.12.0"
  }
 },
 "nbformat": 4,
 "nbformat_minor": 5
}
